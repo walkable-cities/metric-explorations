{
 "cells": [
  {
   "cell_type": "markdown",
   "id": "24a01edf-5434-4cac-b8c1-8e7f772af58c",
   "metadata": {},
   "source": [
    "We start with first metric exploration. We try to start with the easiest one."
   ]
  },
  {
   "cell_type": "code",
   "execution_count": 2,
   "id": "b4560bf1-1082-444c-b163-966f5aa0e46d",
   "metadata": {},
   "outputs": [],
   "source": [
    "import geopandas\n",
    "import contextily\n",
    "from IPython.display import GeoJSON"
   ]
  },
  {
   "cell_type": "code",
   "execution_count": 3,
   "id": "7e31add3-7dba-4347-9e67-0dcfd0d31c4f",
   "metadata": {},
   "outputs": [],
   "source": [
    "neis = geopandas.read_file(\n",
    "    \"http://darribas.org/gds4ae/_downloads/44b4bc22c042386c2c0f8dc6685ef17c/neighbourhoods.geojson\"\n",
    ")"
   ]
  },
  {
   "cell_type": "code",
   "execution_count": 4,
   "id": "1b932ace-6609-4a6b-9111-470931deaf6e",
   "metadata": {},
   "outputs": [
    {
     "data": {
      "text/html": [
       "<div>\n",
       "<style scoped>\n",
       "    .dataframe tbody tr th:only-of-type {\n",
       "        vertical-align: middle;\n",
       "    }\n",
       "\n",
       "    .dataframe tbody tr th {\n",
       "        vertical-align: top;\n",
       "    }\n",
       "\n",
       "    .dataframe thead th {\n",
       "        text-align: right;\n",
       "    }\n",
       "</style>\n",
       "<table border=\"1\" class=\"dataframe\">\n",
       "  <thead>\n",
       "    <tr style=\"text-align: right;\">\n",
       "      <th></th>\n",
       "      <th>neighbourhood</th>\n",
       "      <th>neighbourhood_group</th>\n",
       "      <th>geometry</th>\n",
       "    </tr>\n",
       "  </thead>\n",
       "  <tbody>\n",
       "    <tr>\n",
       "      <th>0</th>\n",
       "      <td>Palacio</td>\n",
       "      <td>Centro</td>\n",
       "      <td>MULTIPOLYGON (((-3.70584 40.42030, -3.70625 40...</td>\n",
       "    </tr>\n",
       "    <tr>\n",
       "      <th>1</th>\n",
       "      <td>Embajadores</td>\n",
       "      <td>Centro</td>\n",
       "      <td>MULTIPOLYGON (((-3.70384 40.41432, -3.70277 40...</td>\n",
       "    </tr>\n",
       "    <tr>\n",
       "      <th>2</th>\n",
       "      <td>Cortes</td>\n",
       "      <td>Centro</td>\n",
       "      <td>MULTIPOLYGON (((-3.69796 40.41929, -3.69645 40...</td>\n",
       "    </tr>\n",
       "    <tr>\n",
       "      <th>3</th>\n",
       "      <td>Justicia</td>\n",
       "      <td>Centro</td>\n",
       "      <td>MULTIPOLYGON (((-3.69546 40.41898, -3.69645 40...</td>\n",
       "    </tr>\n",
       "    <tr>\n",
       "      <th>4</th>\n",
       "      <td>Universidad</td>\n",
       "      <td>Centro</td>\n",
       "      <td>MULTIPOLYGON (((-3.70107 40.42134, -3.70155 40...</td>\n",
       "    </tr>\n",
       "    <tr>\n",
       "      <th>...</th>\n",
       "      <td>...</td>\n",
       "      <td>...</td>\n",
       "      <td>...</td>\n",
       "    </tr>\n",
       "    <tr>\n",
       "      <th>123</th>\n",
       "      <td>Alameda de Osuna</td>\n",
       "      <td>Barajas</td>\n",
       "      <td>MULTIPOLYGON (((-3.58243 40.46381, -3.58078 40...</td>\n",
       "    </tr>\n",
       "    <tr>\n",
       "      <th>124</th>\n",
       "      <td>Timón</td>\n",
       "      <td>Barajas</td>\n",
       "      <td>MULTIPOLYGON (((-3.57990 40.50159, -3.58002 40...</td>\n",
       "    </tr>\n",
       "    <tr>\n",
       "      <th>125</th>\n",
       "      <td>Aeropuerto</td>\n",
       "      <td>Barajas</td>\n",
       "      <td>MULTIPOLYGON (((-3.57786 40.51038, -3.57579 40...</td>\n",
       "    </tr>\n",
       "    <tr>\n",
       "      <th>126</th>\n",
       "      <td>Casco Histórico de Barajas</td>\n",
       "      <td>Barajas</td>\n",
       "      <td>MULTIPOLYGON (((-3.57446 40.47267, -3.57475 40...</td>\n",
       "    </tr>\n",
       "    <tr>\n",
       "      <th>127</th>\n",
       "      <td>Corralejos</td>\n",
       "      <td>Barajas</td>\n",
       "      <td>MULTIPOLYGON (((-3.59957 40.46867, -3.59870 40...</td>\n",
       "    </tr>\n",
       "  </tbody>\n",
       "</table>\n",
       "<p>128 rows × 3 columns</p>\n",
       "</div>"
      ],
      "text/plain": [
       "                  neighbourhood neighbourhood_group  \\\n",
       "0                       Palacio              Centro   \n",
       "1                   Embajadores              Centro   \n",
       "2                        Cortes              Centro   \n",
       "3                      Justicia              Centro   \n",
       "4                   Universidad              Centro   \n",
       "..                          ...                 ...   \n",
       "123            Alameda de Osuna             Barajas   \n",
       "124                       Timón             Barajas   \n",
       "125                  Aeropuerto             Barajas   \n",
       "126  Casco Histórico de Barajas             Barajas   \n",
       "127                  Corralejos             Barajas   \n",
       "\n",
       "                                              geometry  \n",
       "0    MULTIPOLYGON (((-3.70584 40.42030, -3.70625 40...  \n",
       "1    MULTIPOLYGON (((-3.70384 40.41432, -3.70277 40...  \n",
       "2    MULTIPOLYGON (((-3.69796 40.41929, -3.69645 40...  \n",
       "3    MULTIPOLYGON (((-3.69546 40.41898, -3.69645 40...  \n",
       "4    MULTIPOLYGON (((-3.70107 40.42134, -3.70155 40...  \n",
       "..                                                 ...  \n",
       "123  MULTIPOLYGON (((-3.58243 40.46381, -3.58078 40...  \n",
       "124  MULTIPOLYGON (((-3.57990 40.50159, -3.58002 40...  \n",
       "125  MULTIPOLYGON (((-3.57786 40.51038, -3.57579 40...  \n",
       "126  MULTIPOLYGON (((-3.57446 40.47267, -3.57475 40...  \n",
       "127  MULTIPOLYGON (((-3.59957 40.46867, -3.59870 40...  \n",
       "\n",
       "[128 rows x 3 columns]"
      ]
     },
     "execution_count": 4,
     "metadata": {},
     "output_type": "execute_result"
    }
   ],
   "source": [
    "neis"
   ]
  },
  {
   "cell_type": "code",
   "execution_count": 10,
   "id": "8e154247-e0b1-4aee-a4d4-637ceab41f5f",
   "metadata": {},
   "outputs": [
    {
     "name": "stderr",
     "output_type": "stream",
     "text": [
      "<ipython-input-10-b698f071d2f5>:1: UserWarning: Geometry is in a geographic CRS. Results from 'area' are likely incorrect. Use 'GeoSeries.to_crs()' to re-project geometries to a projected CRS before this operation.\n",
      "\n",
      "  neis.area\n"
     ]
    },
    {
     "data": {
      "text/plain": [
       "0      0.000156\n",
       "1      0.000110\n",
       "2      0.000063\n",
       "3      0.000079\n",
       "4      0.000101\n",
       "         ...   \n",
       "123    0.000209\n",
       "124    0.001020\n",
       "125    0.002668\n",
       "126    0.000065\n",
       "127    0.000491\n",
       "Length: 128, dtype: float64"
      ]
     },
     "execution_count": 10,
     "metadata": {},
     "output_type": "execute_result"
    }
   ],
   "source": []
  },
  {
   "cell_type": "code",
   "execution_count": 8,
   "id": "cc6acd2e-1ce2-4872-b5d9-83be84b1f7c0",
   "metadata": {},
   "outputs": [
    {
     "data": {
      "text/plain": [
       "0      1.471037e+06\n",
       "1      1.033253e+06\n",
       "2      5.920485e+05\n",
       "3      7.420313e+05\n",
       "4      9.476156e+05\n",
       "           ...     \n",
       "123    1.970292e+06\n",
       "124    9.595089e+06\n",
       "125    2.510801e+07\n",
       "126    6.092016e+05\n",
       "127    4.624504e+06\n",
       "Length: 128, dtype: float64"
      ]
     },
     "execution_count": 8,
     "metadata": {},
     "output_type": "execute_result"
    }
   ],
   "source": [
    "areas = neis.to_crs(\n",
    "    epsg=32630\n",
    ").area\n",
    "areas"
   ]
  },
  {
   "cell_type": "code",
   "execution_count": 7,
   "id": "c692f2dd-67d3-46e0-b45c-6cafd3469f27",
   "metadata": {},
   "outputs": [
    {
     "data": {
      "text/html": [
       "<div>\n",
       "<style scoped>\n",
       "    .dataframe tbody tr th:only-of-type {\n",
       "        vertical-align: middle;\n",
       "    }\n",
       "\n",
       "    .dataframe tbody tr th {\n",
       "        vertical-align: top;\n",
       "    }\n",
       "\n",
       "    .dataframe thead th {\n",
       "        text-align: right;\n",
       "    }\n",
       "</style>\n",
       "<table border=\"1\" class=\"dataframe\">\n",
       "  <thead>\n",
       "    <tr style=\"text-align: right;\">\n",
       "      <th></th>\n",
       "      <th>neighbourhood</th>\n",
       "      <th>neighbourhood_group</th>\n",
       "      <th>geometry</th>\n",
       "    </tr>\n",
       "  </thead>\n",
       "  <tbody>\n",
       "    <tr>\n",
       "      <th>98</th>\n",
       "      <td>Atalaya</td>\n",
       "      <td>Ciudad Lineal</td>\n",
       "      <td>MULTIPOLYGON (((-3.66195 40.46338, -3.66364 40...</td>\n",
       "    </tr>\n",
       "  </tbody>\n",
       "</table>\n",
       "</div>"
      ],
      "text/plain": [
       "   neighbourhood neighbourhood_group  \\\n",
       "98       Atalaya       Ciudad Lineal   \n",
       "\n",
       "                                             geometry  \n",
       "98  MULTIPOLYGON (((-3.66195 40.46338, -3.66364 40...  "
      ]
     },
     "execution_count": 7,
     "metadata": {},
     "output_type": "execute_result"
    }
   ],
   "source": [
    "smallest = neis[areas == areas.min()]\n",
    "smallest"
   ]
  },
  {
   "cell_type": "code",
   "execution_count": null,
   "id": "68727d2a-1ee4-4958-aad0-b056532917b9",
   "metadata": {},
   "outputs": [],
   "source": []
  }
 ],
 "metadata": {
  "kernelspec": {
   "display_name": "Python 3",
   "language": "python",
   "name": "python3"
  },
  "language_info": {
   "codemirror_mode": {
    "name": "ipython",
    "version": 3
   },
   "file_extension": ".py",
   "mimetype": "text/x-python",
   "name": "python",
   "nbconvert_exporter": "python",
   "pygments_lexer": "ipython3",
   "version": "3.9.4"
  }
 },
 "nbformat": 4,
 "nbformat_minor": 5
}
